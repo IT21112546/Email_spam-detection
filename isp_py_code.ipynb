{
  "nbformat": 4,
  "nbformat_minor": 0,
  "metadata": {
    "colab": {
      "provenance": [],
      "authorship_tag": "ABX9TyM5xdgpf4eGx+2revweNxOh",
      "include_colab_link": true
    },
    "kernelspec": {
      "name": "python3",
      "display_name": "Python 3"
    },
    "language_info": {
      "name": "python"
    }
  },
  "cells": [
    {
      "cell_type": "markdown",
      "metadata": {
        "id": "view-in-github",
        "colab_type": "text"
      },
      "source": [
        "<a href=\"https://colab.research.google.com/github/IT21112546/Email_spam-detection/blob/main/isp_py_code.ipynb\" target=\"_parent\"><img src=\"https://colab.research.google.com/assets/colab-badge.svg\" alt=\"Open In Colab\"/></a>"
      ]
    },
    {
      "cell_type": "code",
      "execution_count": 15,
      "metadata": {
        "colab": {
          "base_uri": "https://localhost:8080/"
        },
        "id": "PIR4ol-aOg_I",
        "outputId": "715c0070-8e88-48c9-ecc6-59eddf2c4c57"
      },
      "outputs": [
        {
          "output_type": "stream",
          "name": "stdout",
          "text": [
            "[1. 1. 1. 1. 1.]\n",
            "[1. 1. 1. 1. 1.]\n",
            "              precision    recall  f1-score   support\n",
            "\n",
            "         1.0       1.00      1.00      1.00         5\n",
            "\n",
            "    accuracy                           1.00         5\n",
            "   macro avg       1.00      1.00      1.00         5\n",
            "weighted avg       1.00      1.00      1.00         5\n",
            "\n",
            "Confusion Matrix: \n",
            " [[5]]\n",
            "\n",
            "Accuracy:  1.0\n",
            "Predicted value:  [1. 1.]\n",
            "Actual value:  [nan  1.]\n",
            "\n"
          ]
        },
        {
          "output_type": "stream",
          "name": "stderr",
          "text": [
            "[nltk_data] Downloading package stopwords to /root/nltk_data...\n",
            "[nltk_data]   Package stopwords is already up-to-date!\n"
          ]
        }
      ],
      "source": [
        "#Import libraries\n",
        "import numpy as np\n",
        "import pandas as pd\n",
        "import nltk\n",
        "from nltk.corpus import stopwords\n",
        "import string\n",
        "\n",
        "#Load the data\n",
        "#from google.colab import files # Use to load data on Google Colab\n",
        "#uploaded = files.upload() # Use to load data on Google Colab\n",
        "df = pd.read_csv('emails1.csv')\n",
        "df.head(5)\n",
        "\n",
        "#Print the shape (Get the number of rows and cols)\n",
        "df.shape\n",
        "\n",
        "#Get the column names\n",
        "df.columns\n",
        "\n",
        "#Checking for duplicates and removing them\n",
        "df.drop_duplicates(inplace = True)\n",
        "\n",
        "#Show the new shape (number of rows & columns)\n",
        "df.shape\n",
        "\n",
        "#Show the number of missing (NAN, NaN, na) data for each column\n",
        "df.isnull().sum()\n",
        "\n",
        "#Need to download stopwords\n",
        "nltk.download('stopwords')\n",
        "\n",
        "#Tokenization (a list of tokens), will be used as the analyzer\n",
        "#1.Punctuations are [!\"#$%&'()*+,-./:;<=>?@[\\]^_`{|}~]\n",
        "#2.Stop words in natural language processing, are useless words (data).\n",
        "def process_text(text):\n",
        "\n",
        "    #1 Remove Punctuationa\n",
        "    nopunc = [char for char in text if char not in string.punctuation]\n",
        "    nopunc = ''.join(nopunc)\n",
        "\n",
        "    #2 Remove Stop Words\n",
        "    clean_words = [word for word in nopunc.split() if word.lower() not in stopwords.words('english')]\n",
        "\n",
        "    #3 Return a list of clean words\n",
        "    return clean_words\n",
        "\n",
        "#Show the Tokenization (a list of tokens )\n",
        "df['text'].head().apply(process_text)\n",
        "\n",
        "from sklearn.feature_extraction.text import CountVectorizer\n",
        "messages_bow = CountVectorizer(analyzer=process_text).fit_transform(df['text'])\n",
        "\n",
        "#Split data into 80% training & 20% testing data sets\n",
        "from sklearn.model_selection import train_test_split\n",
        "X_train, X_test, y_train, y_test = train_test_split(messages_bow, df['spam'], test_size = 0.20, random_state = 0)\n",
        "\n",
        "#Get the shape of messages_bow\n",
        "messages_bow.shape\n",
        "\n",
        "from sklearn.naive_bayes import MultinomialNB\n",
        "classifier = MultinomialNB()\n",
        "classifier.fit(X_train, y_train)\n",
        "\n",
        "#Print the predictions\n",
        "print(classifier.predict(X_train))\n",
        "#Print the actual values\n",
        "print(y_train.values)\n",
        "\n",
        "#Evaluate the model on the training data set\n",
        "from sklearn.metrics import classification_report,confusion_matrix, accuracy_score\n",
        "pred = classifier.predict(X_train)\n",
        "print(classification_report(y_train ,pred ))\n",
        "print('Confusion Matrix: \\n',confusion_matrix(y_train,pred))\n",
        "print()\n",
        "print('Accuracy: ', accuracy_score(y_train,pred))\n",
        "\n",
        "#Print the predictions\n",
        "print('Predicted value: ',classifier.predict(X_test))\n",
        "#Print Actual Label\n",
        "print('Actual value: ',y_test.values)\n",
        "\n",
        "#Evaluate the model on the test data set\n",
        "from sklearn.metrics import classification_report,confusion_matrix, accuracy_score\n",
        "pred = classifier.predict(X_test)\n",
        "#print(classification_report(y_test ,pred))\n",
        "#print('Confusion Matrix: \\n', confusion_matrix(y_test,pred))\n",
        "print()\n",
        "#print('Accuracy: ', accuracy_score(y_test,pred))\n",
        "\n"
      ]
    }
  ]
}